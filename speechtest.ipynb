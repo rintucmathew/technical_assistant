{
 "cells": [
  {
   "cell_type": "code",
   "execution_count": 10,
   "metadata": {},
   "outputs": [],
   "source": [
    "import subprocess as sp"
   ]
  },
  {
   "cell_type": "code",
   "execution_count": 11,
   "metadata": {},
   "outputs": [],
   "source": [
    "import os"
   ]
  },
  {
   "cell_type": "code",
   "execution_count": 12,
   "metadata": {},
   "outputs": [],
   "source": [
    "import pyttsx3"
   ]
  },
  {
   "cell_type": "code",
   "execution_count": 13,
   "metadata": {},
   "outputs": [],
   "source": [
    "import speech_recognition as sr"
   ]
  },
  {
   "cell_type": "code",
   "execution_count": 14,
   "metadata": {},
   "outputs": [],
   "source": [
    "r=sr.Recognizer()"
   ]
  },
  {
   "cell_type": "code",
   "execution_count": 15,
   "metadata": {},
   "outputs": [],
   "source": [
    "with sr.Microphone() as source:\n",
    "    pyttsx3.speak('i am here to assist you tell me your requirement')\n",
    "    audio = r.listen(source)\n",
    "    pyttsx3.speak('okay please wait i am processing your request')\n",
    "    "
   ]
  },
  {
   "cell_type": "code",
   "execution_count": 16,
   "metadata": {},
   "outputs": [],
   "source": [
    "ch=r.recognize_google(audio)"
   ]
  },
  {
   "cell_type": "code",
   "execution_count": 17,
   "metadata": {},
   "outputs": [
    {
     "data": {
      "text/plain": [
       "'Google Chrome for me'"
      ]
     },
     "execution_count": 17,
     "metadata": {},
     "output_type": "execute_result"
    }
   ],
   "source": [
    "ch"
   ]
  },
  {
   "cell_type": "code",
   "execution_count": 18,
   "metadata": {},
   "outputs": [],
   "source": [
    "\n",
    "if \"Chrome\" in ch:\n",
    "    #sp.call(\"C:/Program Files (x86)/Google/Chrome/Application/chrome.exe\")\n",
    "    os.system(\"start chrome\")\n",
    "   # print(\"Chrome\")\n",
    "elif \"Firefox\" in ch:\n",
    "    os.system(\"start Firefox\")\n",
    "    #sp.call(\"C:/Program Files (x86)/Mozilla Firefox/firefox.exe\")\n",
    "\n",
    "    # print(\"firefox\")\n",
    "elif \"webcam\" in ch:\n",
    "    sp.call(\"C:/Program Files (x86)/Dell Webcam/Dell Webcam Central/WebcamDell2.exe\")\n",
    "elif \"zoom\" in ch:\n",
    "    os.system(\"C:/Users/Dell/AppData/Roaming/Zoom/bin/Zoom.exe\")\n",
    "    #print(\"zoom\")\n",
    "elif \"Notepad\" in ch:\n",
    "    sp.call(\"C:/Program Files/Notepad++/notepad++.exe\")\n",
    "    #print(\"Notepad\")\n",
    "elif \"YouTube\" in ch:\n",
    "    os.system(\"start  www.YouTube.com\")\n",
    "elif \"Wikipedia\" in ch:\n",
    "    os.system(\"start  www.Wikipedia.com\")\n",
    "elif \"Facebook\" in ch: \n",
    "    os.system(\"start www.Facebook.com\")\n",
    "elif \"Gmail\" in ch:\n",
    "    os.system(\"start www.Gmail.com\")\n",
    "elif \"Twitter\" in ch:\n",
    "    os.system(\"start www.Twitter.com\")\n",
    "elif  \"Yahoo\" in ch:\n",
    "    os.system(\"start  www.YahooMail.com\")  \n",
    "elif \"date\" in ch:\n",
    "    a=sp.getoutput(\"date\")\n",
    "    print(a)\n",
    "elif \"time\" in ch:\n",
    "    b=sp.getoutput(\"time\")\n",
    "    print(b)\n",
    "else:\n",
    "    print(\"Sorry... I did not get your request can you please repeate it agaian\")\n",
    "        "
   ]
  }
 ],
 "metadata": {
  "kernelspec": {
   "display_name": "Python 3",
   "language": "python",
   "name": "python3"
  },
  "language_info": {
   "codemirror_mode": {
    "name": "ipython",
    "version": 3
   },
   "file_extension": ".py",
   "mimetype": "text/x-python",
   "name": "python",
   "nbconvert_exporter": "python",
   "pygments_lexer": "ipython3",
   "version": "3.8.5"
  }
 },
 "nbformat": 4,
 "nbformat_minor": 4
}
