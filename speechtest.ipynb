{
 "cells": [
  {
   "cell_type": "code",
   "execution_count": 34,
   "metadata": {},
   "outputs": [],
   "source": [
    "import subprocess as sp"
   ]
  },
  {
   "cell_type": "code",
   "execution_count": 35,
   "metadata": {},
   "outputs": [],
   "source": [
    "import os"
   ]
  },
  {
   "cell_type": "code",
   "execution_count": 27,
   "metadata": {},
   "outputs": [],
   "source": [
    "import pyttsx3"
   ]
  },
  {
   "cell_type": "code",
   "execution_count": 36,
   "metadata": {},
   "outputs": [],
   "source": [
    "import speech_recognition as sr"
   ]
  },
  {
   "cell_type": "code",
   "execution_count": 37,
   "metadata": {},
   "outputs": [],
   "source": [
    "r=sr.Recognizer()"
   ]
  },
  {
   "cell_type": "code",
   "execution_count": 38,
   "metadata": {},
   "outputs": [],
   "source": [
    "with sr.Microphone() as source:\n",
    "    pyttsx3.speak('i am here to assist you tell me your requirement')\n",
    "    audio = r.listen(source)\n",
    "    pyttsx3.speak('okay please wait i am processing your request')\n",
    "    "
   ]
  },
  {
   "cell_type": "code",
   "execution_count": 39,
   "metadata": {},
   "outputs": [],
   "source": [
    "ch=r.recognize_google(audio)"
   ]
  },
  {
   "cell_type": "code",
   "execution_count": 40,
   "metadata": {},
   "outputs": [
    {
     "data": {
      "text/plain": [
       "'can you open Firefox for me'"
      ]
     },
     "execution_count": 40,
     "metadata": {},
     "output_type": "execute_result"
    }
   ],
   "source": [
    "ch"
   ]
  },
  {
   "cell_type": "code",
   "execution_count": 41,
   "metadata": {},
   "outputs": [],
   "source": [
    "\n",
    "if \"Chrome\" in ch:\n",
    "    #sp.call(\"C:/Program Files (x86)/Google/Chrome/Application/chrome.exe\")\n",
    "    os.system(\"start chrome\")\n",
    "   # print(\"Chrome\")\n",
    "elif \"Firefox\" in ch:\n",
    "    os.system(\"start Firefox\")\n",
    "    #sp.call(\"C:/Program Files (x86)/Mozilla Firefox/firefox.exe\")\n",
    "\n",
    "    # print(\"firefox\")\n",
    "elif \"webcam\" in ch:\n",
    "    sp.call(\"C:/Program Files (x86)/Dell Webcam/Dell Webcam Central/WebcamDell2.exe\")\n",
    "elif \"zoom\" in ch:\n",
    "    os.system(\"C:/Users/Dell/AppData/Roaming/Zoom/bin/Zoom.exe\")\n",
    "    #print(\"zoom\")\n",
    "elif \"Notepad\" in ch:\n",
    "    sp.call(\"C:/Program Files/Notepad++/notepad++.exe\")\n",
    "    #print(\"Notepad\")\n",
    "else:\n",
    "    print(\"Sorry... I did not get your request can you please repeate it agaian\")\n",
    "        "
   ]
  },
  {
   "cell_type": "code",
   "execution_count": null,
   "metadata": {},
   "outputs": [],
   "source": []
  }
 ],
 "metadata": {
  "kernelspec": {
   "display_name": "Python 3",
   "language": "python",
   "name": "python3"
  },
  "language_info": {
   "codemirror_mode": {
    "name": "ipython",
    "version": 3
   },
   "file_extension": ".py",
   "mimetype": "text/x-python",
   "name": "python",
   "nbconvert_exporter": "python",
   "pygments_lexer": "ipython3",
   "version": "3.8.5"
  }
 },
 "nbformat": 4,
 "nbformat_minor": 4
}
